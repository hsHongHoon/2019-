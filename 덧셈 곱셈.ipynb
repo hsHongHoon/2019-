{
 "cells": [
  {
   "cell_type": "code",
   "execution_count": 12,
   "metadata": {},
   "outputs": [
    {
     "name": "stdout",
     "output_type": "stream",
     "text": [
      "0.32\n"
     ]
    },
    {
     "data": {
      "text/plain": [
       "0"
      ]
     },
     "execution_count": 12,
     "metadata": {},
     "output_type": "execute_result"
    }
   ],
   "source": []
  },
  {
   "cell_type": "code",
   "execution_count": null,
   "metadata": {},
   "outputs": [],
   "source": [
    "t = float(input())\n",
    "def pn(a) :\n",
    "    cnt = 0\n",
    "    # 소수로만 되어있는 경우\n",
    "    if a == 0:\n",
    "        b = a\n",
    "        while b != 0.0 :\n",
    "            if b != 0.0 :\n",
    "                cnt += 1\n",
    "            b = b*10\n",
    "            #소수부분 구하기\n",
    "            l = len(str(int(b)))\n",
    "            b = float('0'+str(b)[l:])\n",
    "    # 정수부분이 있는 경우\n",
    "    b = a\n",
    "    while b == int(b):\n",
    "        b = b/10\n",
    "        if int(b):\n",
    "            cnt-=1\n",
    "    return cnt\n",
    "pn(t)"
   ]
  }
 ],
 "metadata": {
  "kernelspec": {
   "display_name": "Python 3",
   "language": "python",
   "name": "python3"
  },
  "language_info": {
   "codemirror_mode": {
    "name": "ipython",
    "version": 3
   },
   "file_extension": ".py",
   "mimetype": "text/x-python",
   "name": "python",
   "nbconvert_exporter": "python",
   "pygments_lexer": "ipython3",
   "version": "3.6.4"
  }
 },
 "nbformat": 4,
 "nbformat_minor": 2
}



------
{
 "cells": [
  {
   "cell_type": "code",
   "execution_count": 1,
   "metadata": {},
   "outputs": [],
   "source": [
    "def pn(a) :\n",
    "    cnt = 0\n",
    "    # 소수로만 되어있는 경우\n",
    "    if int(a) == 0:\n",
    "        b = a,
    "        while b != 0.0 :\n",
    "           
    "            cnt+=1\n",
    "            b = b*10\n",
    "            #소수부분 구하기\n",
    "            l = len(str(int(b)))\n",
    "            b = float('0'+str(b)[l:])\n",
    "    # 정수부분이 있는 경우\n",
    "    b = a,
    "    while b == int(b):\n",
    "        b = b/10\n",
    "        if int(b):\n",
    "            cnt-=1\n",
    "    return cnt"
   ]
  },
  {
   "cell_type": "code",
   "execution_count": 2,
   "metadata": {},
   "outputs": [
    {
     "data": {
      "text/plain": [
       "-1"
      ]
     },
     "execution_count": 2,
     "metadata": {},
     "output_type": "execute_result"
    }
   ],
   "source": [
    "pn(12.56)"
   ]
  },
  {
   "cell_type": "code",
   "execution_count": 3,
   "metadata": {},
   "outputs": [],
   "source": [
    "def sgnum(a) :\n",
    "    cnt = 0\n",
    "    b = int(a)\n",
    "    # 정수부분이 존재하는 경우, 정수부분이 유효숫자 개수\n",
    "    if int(a):\n",
    "        while b:\n",
    "            b = b/10\n",
    "            b = int(b)\n",
    "            cnt+=1\n",
    "    # 소수부분 유효숫자 개수\n",
    "    while a != 0.0 :\n",
    "        l = len(str(int(a)))\n",
    "        b = float('0'+str(a)[l:])\n",
    "        if b != 0.0 :\n",
    "            cnt+=1\n",
    "        a = a*10\n",
    "        l = len(str(int(a)))\n",
    "        a = float('0'+str(a)[l:])\n",
    "    return cnt"
   ]
  },
  {
   "cell_type": "code",
   "execution_count": 4,
   "metadata": {},
   "outputs": [
    {
     "data": {
      "text/plain": [
       "2"
      ]
     },
     "execution_count": 4,
     "metadata": {},
     "output_type": "execute_result"
    }
   ],
   "source": [
    "sgnum(4.5)"
   ]
  },
  {
   "cell_type": "code",
   "execution_count": 5,
   "metadata": {},
   "outputs": [],
   "source": [
    "def sum() :\n",
    "    a = input(\"더할 숫자들을 입력해주세요(숫자 사이에 띄어쓰기): \")\n",
    "    a = a.split()\n",
    "    # tmp에 가장 높은 유효숫자 자릿수를 저장\n",
    "    tmp = pn(float(a[0]))\n",
    "    # s에 총 합 저장\n",
    "    s = 0\n",
    "    for i in a :\n",
    "        if tmp > pn(float(i)) :\n",
    "            tmp = pn(float(i))\n",
    "        s += float(i)\n",
    "    # 반올림\n",
    "    print(round(s,tmp))"
   ]
  },
  {
   "cell_type": "code",
   "execution_count": 6,
   "metadata": {},
   "outputs": [
    {
     "name": "stdout",
     "output_type": "stream",
     "text": [
      "더할 숫자들을 입력해주세요(숫자 사이에 띄어쓰기): 4.5 4 4.5\n",
      "13.0\n"
     ]
    }
   ],
   "source": [
    "sum()"
   ]
  },
  {
   "cell_type": "code",
   "execution_count": 7,
   "metadata": {},
   "outputs": [],
   "source": [
    "def mult() :\n",
    "    a = input(\"곱할 숫자들을 입력해주세요(숫자 사이에 띄어쓰기): \")\n",
    "    a = a.split()\n",
    "    # tmp에 가장 많은 유효숫자 개수 저장\n",
    "    tmp = sgnum(float(a[0]))\n",
    "    # s에 총 곱 저장\n",
    "    s = 1\n",
    "    # cnt1에 10을 곱하는 횟수 저장\n",
    "    cnt1 = 0\n",
    "    # cnt2에 10을 곱한 후 최대자릿수 저장\n",
    "    cnt2 = 0\n",
    "    for i in a :\n",
    "        if tmp > sgnum(float(i)) :\n",
    "            tmp = sgnum(float(i))\n",
    "        s *= float(i)\n",
    "    print(tmp)\n",
    "    l = len(str(int(s)))\n",
    "    b = float('0'+str(s)[l:])\n",
    "    # 총 곱을 구한 후 정수가 될때까지 10을 곱함\n",
    "    while b != 0.0 :\n",
    "        s = s*10\n",
    "        l = len(str(int(s)))\n",
    "        b = float('0'+str(s)[l:])\n",
    "        cnt1 += 1\n",
    "    c = int(s)\n",
    "    while c :\n",
    "        c = int(c/10)\n",
    "        cnt2 += 1\n",
    "    s = str(int(s))\n",
    "    t = 10**(cnt2-1)\n",
    "    result = 0\n",
    "    # 가장 적은 유효숫자 개수만큼 남기고 반올림하는 과정\n",
    "    for i in s :\n",
    "        if tmp == 0 :\n",
    "            # 반올림\n",
    "            if int(i) >= 5 :\n",
    "                result += t*10\n",
    "            break\n",
    "        result += t*int(i)\n",
    "        tmp -= 1\n",
    "        t /= 10\n",
    "    result = result/10**cnt1\n",
    "    print(result)"
   ]
  },
  {
   "cell_type": "code",
   "execution_count": 8,
   "metadata": {},
   "outputs": [
    {
     "name": "stdout",
     "output_type": "stream",
     "text": [
      "곱할 숫자들을 입력해주세요(숫자 사이에 띄어쓰기): 4.5 4 4.5\n",
      "1\n",
      "80.0\n"
     ]
    }
   ],
   "source": [
    "mult()"
   ]
  }
 ],
 "metadata": {
  "kernelspec": {
   "display_name": "Python 3",
   "language": "python",
   "name": "python3"
  },
  "language_info": {
   "codemirror_mode": {
    "name": "ipython",
    "version": 3
   },
   "file_extension": ".py",
   "mimetype": "text/x-python",
   "name": "python",
   "nbconvert_exporter": "python",
   "pygments_lexer": "ipython3",
   "version": "3.6.4"
  }
 },
 "nbformat": 4,
 "nbformat_minor": 2
}
